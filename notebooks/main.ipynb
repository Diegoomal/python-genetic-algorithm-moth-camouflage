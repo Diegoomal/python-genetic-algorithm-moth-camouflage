{
 "cells": [
  {
   "cell_type": "code",
   "execution_count": 1,
   "metadata": {},
   "outputs": [],
   "source": [
    "import random, time\n",
    "from IPython import display             # type: ignore\n",
    "from PIL import Image, ImageDraw        # type: ignore\n"
   ]
  },
  {
   "cell_type": "code",
   "execution_count": 2,
   "metadata": {},
   "outputs": [],
   "source": [
    "# Definição das características\n",
    "GENE_LENGTH = 20                        # Cada mariposa é representada por uma string de 10 números de 0 a 255.\n",
    "GENERATIONS = 100\n",
    "POPULATION_SIZE = 20\n",
    "MUTATION_RATE = 0.01\n",
    "\n",
    "# Ambiente (0 para claro, 255 para escuro)\n",
    "environment = 200  # Vamos assumir que o ambiente é um tom de cinza\n"
   ]
  },
  {
   "cell_type": "code",
   "execution_count": 3,
   "metadata": {},
   "outputs": [],
   "source": [
    "def create_genome():\n",
    "    return [random.randint(0, 255) for _ in range(GENE_LENGTH)]\n",
    "\n",
    "def create_population():\n",
    "    return [create_genome() for _ in range(POPULATION_SIZE)]\n",
    "\n",
    "def fitness(genome):\n",
    "    # Calcula a diferença média entre os genes da mariposa e o ambiente\n",
    "    return -sum(abs(gene - environment) for gene in genome) / GENE_LENGTH\n",
    "\n",
    "def selection(population):\n",
    "    scored = sorted(population, key=fitness, reverse=True)\n",
    "    return scored[:5]  # Seleciona os 5 melhores\n",
    "\n",
    "def crossover(parent1, parent2):\n",
    "    point = random.randint(1, GENE_LENGTH - 1)\n",
    "    return parent1[:point] + parent2[point:]\n",
    "\n",
    "def mutate(genome):\n",
    "    return [random.randint(0, 255) if random.random() < MUTATION_RATE else gene for gene in genome]\n"
   ]
  },
  {
   "cell_type": "code",
   "execution_count": null,
   "metadata": {},
   "outputs": [],
   "source": [
    "_history = []\n",
    "\n",
    "population = create_population()                                                # Implementação do algoritmo genético\n",
    "best_population = []\n",
    "\n",
    "for generation in range(GENERATIONS):                                           # Execução do algoritmo genético\n",
    "\n",
    "    print(f\"Geração {generation}: Melhor fitness = {max(population, key=fitness)}\")\n",
    "    \n",
    "    best_population.append(population)                                          # Armazena a população para visualização final\n",
    "\n",
    "    parents = selection(population)                                             # Seleção\n",
    "\n",
    "    new_population = []\n",
    "    while len(new_population) < POPULATION_SIZE:                                # Nova população\n",
    "        parent1 = random.choice(parents)\n",
    "        parent2 = random.choice(parents)\n",
    "        child = crossover(parent1, parent2)\n",
    "        child = mutate(child)\n",
    "        new_population.append(child)\n",
    "\n",
    "    population = new_population\n",
    "\n",
    "    _history.append( population.copy() )\n"
   ]
  },
  {
   "cell_type": "code",
   "execution_count": 5,
   "metadata": {},
   "outputs": [],
   "source": [
    "def draw_population(individuals, tile_size=40, grid_size_x=10, grid_size_y=10, bg_color=(127, 127, 127)):\n",
    "\n",
    "    canvas_size = grid_size_x * tile_size\n",
    "    image = Image.new(\"RGB\", (canvas_size, canvas_size), bg_color)\n",
    "    draw_context = ImageDraw.Draw(image)\n",
    "\n",
    "    for x in range(grid_size_y):\n",
    "        for y in range(grid_size_x):\n",
    "            x0 = x * tile_size;  y0 = y * tile_size\n",
    "            x1 = x0 + tile_size; y1 = y0 + tile_size\n",
    "\n",
    "            margin_x = tile_size * 0.05\n",
    "            margin_y = tile_size * 0.05\n",
    "\n",
    "            x0 += margin_x; y0 += margin_y\n",
    "            x1 -= margin_x; y1 -= margin_y\n",
    "\n",
    "            color_value = individuals[y][x] if individuals else 0\n",
    "            color = (color_value, color_value, color_value)\n",
    "\n",
    "            draw_context.rectangle([x0, y0, x1, y1], fill=color, outline=\"gray\")\n",
    "\n",
    "    display.display(image)\n",
    "    display.clear_output(wait=True)\n"
   ]
  },
  {
   "cell_type": "code",
   "execution_count": null,
   "metadata": {},
   "outputs": [],
   "source": [
    "# Visualização final\n",
    "print(\"Resultado final:\")\n",
    "\n",
    "for idx, i in enumerate(_history):\n",
    "    print('idx:', idx+1)\n",
    "    draw_population( i, tile_size=40, bg_color=(127, 127, 127), grid_size_x=POPULATION_SIZE, grid_size_y=GENE_LENGTH )\n",
    "    time.sleep(0.05)\n",
    "\n",
    "# obs: \n",
    "#\n",
    "# Indivíduo N = POPULATION_SIZE\n",
    "# gene_N = GENE_LENGTH\n",
    "#\n",
    "# Indivíduo 01: [gene1, gene2, ..., gene_N]\n",
    "# Indivíduo 02: [gene1, gene2, ..., gene_N]\n",
    "# ...\n",
    "# Indivíduo N : [gene1, gene2, ..., gene_N]"
   ]
  }
 ],
 "metadata": {
  "kernelspec": {
   "display_name": "camo-env",
   "language": "python",
   "name": "python3"
  },
  "language_info": {
   "codemirror_mode": {
    "name": "ipython",
    "version": 3
   },
   "file_extension": ".py",
   "mimetype": "text/x-python",
   "name": "python",
   "nbconvert_exporter": "python",
   "pygments_lexer": "ipython3",
   "version": "3.10.16"
  }
 },
 "nbformat": 4,
 "nbformat_minor": 2
}
